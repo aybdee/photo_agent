{
 "cells": [
  {
   "cell_type": "code",
   "execution_count": 1,
   "metadata": {},
   "outputs": [],
   "source": [
    "from langchain.pydantic_v1 import BaseModel, Field\n",
    "from langchain.tools import BaseTool, StructuredTool, tool"
   ]
  },
  {
   "cell_type": "code",
   "execution_count": null,
   "metadata": {},
   "outputs": [],
   "source": [
    "@tool\n",
    "def check_(query: str) -> str:\n",
    "    \"\"\"\n",
    "    Use this tool to monitor and report the current \n",
    "    state of your photograph setup, including lighting, \n",
    "    subject positioning, and camera placement, \n",
    "    to ensure everything is in the right place \n",
    "    before proceeding with further adjustments.\n",
    "    \"\"\"\n",
    "    return \"LangChain\""
   ]
  }
 ],
 "metadata": {
  "kernelspec": {
   "display_name": "photo-agent-2PM1QIoq-py3.12",
   "language": "python",
   "name": "python3"
  },
  "language_info": {
   "codemirror_mode": {
    "name": "ipython",
    "version": 3
   },
   "file_extension": ".py",
   "mimetype": "text/x-python",
   "name": "python",
   "nbconvert_exporter": "python",
   "pygments_lexer": "ipython3",
   "version": "3.12.4"
  }
 },
 "nbformat": 4,
 "nbformat_minor": 2
}
